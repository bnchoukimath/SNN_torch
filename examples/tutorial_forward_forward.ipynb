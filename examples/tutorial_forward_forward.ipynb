{
  "cells": [
    {
      "cell_type": "markdown",
      "id": "47d5313e-c29d-4581-a9c7-a45122337069",
      "metadata": {
        "id": "47d5313e-c29d-4581-a9c7-a45122337069"
      },
      "source": [
        "[<img src='https://github.com/jeshraghian/snntorch/blob/master/docs/_static/img/snntorch_alpha_w.png?raw=true' width=\"300\">](https://github.com/jeshraghian/snntorch/)\n",
        "\n",
        "# The Forward-Forward Algorithm\n",
        "### Tutorial written by Ethan Mulle and Abhinandan Singh\n"
      ]
    },
    {
      "cell_type": "markdown",
      "id": "oll2NNFeG1NG",
      "metadata": {
        "id": "oll2NNFeG1NG"
      },
      "source": [
        "The following tutorial introduces how to implement the Forward-Forward algorithm proposed by Geoffrey Hinton into a spiking neural network (SNN).\n",
        "> <cite> [Geoffrey Hinton. The Forward-Forward Algorithm: Some Preliminary\n",
        "Investigations. 2022. arXiv: 2212.13345 [cs.LG].](https://arxiv.org/abs/2212.13345) </cite>\n",
        "\n",
        "For a comprehensive overview on how SNNs work, and what is going on under the hood, [then you might be interested in the snnTorch tutorial series available here.](https://snntorch.readthedocs.io/en/latest/tutorials/index.html)\n",
        "The snnTorch tutorial series is based on the following paper. If you find these resources or code useful in your work, please consider citing the following source:\n",
        "\n",
        "> <cite> [Jason K. Eshraghian, Max Ward, Emre Neftci, Xinxin Wang, Gregor Lenz, Girish Dwivedi, Mohammed Bennamoun, Doo Seok Jeong, and Wei D. Lu. \"Training Spiking Neural Networks Using Lessons From Deep Learning\". Proceedings of the IEEE, 111(9) September 2023.](https://ieeexplore.ieee.org/abstract/document/10242251) </cite>"
      ]
    },
    {
      "cell_type": "markdown",
      "id": "ELOnnEYi4YY8",
      "metadata": {
        "id": "ELOnnEYi4YY8"
      },
      "source": [
        "- Run the below two cells to install snnTorch and then import PyTorch and snnTorch for use."
      ]
    },
    {
      "cell_type": "code",
      "execution_count": null,
      "id": "hDnIEHOKB8LD",
      "metadata": {
        "colab": {
          "base_uri": "https://localhost:8080/"
        },
        "id": "hDnIEHOKB8LD",
        "outputId": "8914c89f-07eb-4c55-fa26-023f6fbd6ac2"
      },
      "outputs": [
        {
          "name": "stdout",
          "output_type": "stream",
          "text": [
            "\u001b[?25l     \u001b[90m━━━━━━━━━━━━━━━━━━━━━━━━━━━━━━━━━━━━━━━━\u001b[0m \u001b[32m0.0/109.0 kB\u001b[0m \u001b[31m?\u001b[0m eta \u001b[36m-:--:--\u001b[0m\r\u001b[2K     \u001b[90m━━━━━━━━━━━━━━━━━━━━━━━━━━━━━━━━━━━━━━━━\u001b[0m \u001b[32m109.0/109.0 kB\u001b[0m \u001b[31m3.2 MB/s\u001b[0m eta \u001b[36m0:00:00\u001b[0m\n",
            "\u001b[?25h"
          ]
        }
      ],
      "source": [
        "!pip install snntorch --quiet"
      ]
    },
    {
      "cell_type": "code",
      "execution_count": null,
      "id": "WL487gZW1Agy",
      "metadata": {
        "id": "WL487gZW1Agy"
      },
      "outputs": [],
      "source": [
        "import torch, torch.nn as nn\n",
        "import snntorch as snn\n",
        "device = torch.device(\"cuda\") if torch.cuda.is_available() else torch.device(\"cpu\")"
      ]
    },
    {
      "cell_type": "markdown",
      "id": "EYf13Gtx1OCj",
      "metadata": {
        "id": "EYf13Gtx1OCj"
      },
      "source": [
        "## 1. The MNIST Dataset\n",
        "For this tutorial, we will be using the MNIST dataset. MNIST is a dataset of 60,000 images in the training set and 10,000 images in the test set of grayscale handwritten numerical digits. The goal is to classify the digit written in each image between 0-9.\n",
        "\n",
        "\n",
        "* The spatial dimensions of MNIST are $28\\times 28$\n",
        "* The image is grayscale so the channel size is $1$\n",
        "* There are no time-varying components, so there is no sequence length\n",
        "\n",
        "\n",
        "### 1.1 Dataloading\n",
        "\n",
        "- Set up data loaders for the MNIST training and test datasets.\n",
        "\n",
        "- Define a data transformation pipeline, and iterate over the first batch of the training loader to inspect the size of the data.\n",
        "\n",
        "- The transformations include converting images to grayscale, transforming them to tensors, normalizing pixel values, and flattening the tensors."
      ]
    },
    {
      "cell_type": "code",
      "execution_count": null,
      "id": "3GdglZjK04cb",
      "metadata": {
        "colab": {
          "base_uri": "https://localhost:8080/"
        },
        "id": "3GdglZjK04cb",
        "outputId": "bdc684d2-4feb-458a-c2f2-2525121756d3"
      },
      "outputs": [
        {
          "name": "stdout",
          "output_type": "stream",
          "text": [
            "Downloading http://yann.lecun.com/exdb/mnist/train-images-idx3-ubyte.gz\n",
            "Downloading http://yann.lecun.com/exdb/mnist/train-images-idx3-ubyte.gz to ./data/MNIST/raw/train-images-idx3-ubyte.gz\n"
          ]
        },
        {
          "name": "stderr",
          "output_type": "stream",
          "text": [
            "100%|██████████| 9912422/9912422 [00:00<00:00, 154424511.55it/s]"
          ]
        },
        {
          "name": "stdout",
          "output_type": "stream",
          "text": [
            "Extracting ./data/MNIST/raw/train-images-idx3-ubyte.gz to ./data/MNIST/raw\n"
          ]
        },
        {
          "name": "stderr",
          "output_type": "stream",
          "text": [
            "\n"
          ]
        },
        {
          "name": "stdout",
          "output_type": "stream",
          "text": [
            "\n",
            "Downloading http://yann.lecun.com/exdb/mnist/train-labels-idx1-ubyte.gz\n",
            "Downloading http://yann.lecun.com/exdb/mnist/train-labels-idx1-ubyte.gz to ./data/MNIST/raw/train-labels-idx1-ubyte.gz\n"
          ]
        },
        {
          "name": "stderr",
          "output_type": "stream",
          "text": [
            "100%|██████████| 28881/28881 [00:00<00:00, 38201101.81it/s]\n"
          ]
        },
        {
          "name": "stdout",
          "output_type": "stream",
          "text": [
            "Extracting ./data/MNIST/raw/train-labels-idx1-ubyte.gz to ./data/MNIST/raw\n",
            "\n",
            "Downloading http://yann.lecun.com/exdb/mnist/t10k-images-idx3-ubyte.gz\n",
            "Downloading http://yann.lecun.com/exdb/mnist/t10k-images-idx3-ubyte.gz to ./data/MNIST/raw/t10k-images-idx3-ubyte.gz\n"
          ]
        },
        {
          "name": "stderr",
          "output_type": "stream",
          "text": [
            "100%|██████████| 1648877/1648877 [00:00<00:00, 48104859.92it/s]\n"
          ]
        },
        {
          "name": "stdout",
          "output_type": "stream",
          "text": [
            "Extracting ./data/MNIST/raw/t10k-images-idx3-ubyte.gz to ./data/MNIST/raw\n",
            "\n",
            "Downloading http://yann.lecun.com/exdb/mnist/t10k-labels-idx1-ubyte.gz\n",
            "Downloading http://yann.lecun.com/exdb/mnist/t10k-labels-idx1-ubyte.gz to ./data/MNIST/raw/t10k-labels-idx1-ubyte.gz\n"
          ]
        },
        {
          "name": "stderr",
          "output_type": "stream",
          "text": [
            "100%|██████████| 4542/4542 [00:00<00:00, 24613086.26it/s]\n"
          ]
        },
        {
          "name": "stdout",
          "output_type": "stream",
          "text": [
            "Extracting ./data/MNIST/raw/t10k-labels-idx1-ubyte.gz to ./data/MNIST/raw\n",
            "\n",
            "torch.Size([50000, 784])\n"
          ]
        }
      ],
      "source": [
        "from torchvision.datasets import MNIST\n",
        "from torchvision.transforms import Compose, Grayscale, ToTensor, Normalize, Lambda\n",
        "from torch.utils.data import DataLoader\n",
        "\n",
        "# **DATA TRANFORMATION FUNCTION**\n",
        "# defines a data transformation pipeline using the 'Compose' class.\n",
        "# the pipeline includes converting images to grayscale, transforming them to tensors, normalizing pixel values, and flattening the tensors.\n",
        "transform = Compose([\n",
        "    Grayscale(),\n",
        "    ToTensor(),\n",
        "    Normalize((0,), (1,)),\n",
        "    Lambda(lambda x: torch.flatten(x))])\n",
        "\n",
        "\n",
        "# **LOAD AND TRANFORM TRAIN DATA**\n",
        "mnist_train = MNIST('./data/', train=True, download=True, transform=transform)\n",
        "  # loads the MNIST training dataset with specified transformations.\n",
        "train_loader = DataLoader(mnist_train, batch_size=50000, shuffle=True)\n",
        "  # creates a DataLoader for the training dataset with a batch size of 50000 and shuffling enabled.\n",
        "\n",
        "# **LOAD AND TRANFORM TEST DATA**\n",
        "mnist_test = MNIST('./data/', train=False, download=True, transform=transform)\n",
        "  # loads the MNIST test dataset with the same transformations as the training dataset.\n",
        "test_loader = DataLoader(mnist_train, batch_size=10000, shuffle=False)\n",
        "  # creates a DataLoader for the test dataset with a batch size of 10000.\n",
        "\n",
        "# **ITERATE OVER TRAIN LOADER**\n",
        "for data, label in iter(train_loader):\n",
        "# initiates a loop to iterate over batches from the training loader.\n",
        "  print(data.size())\n",
        "    # prints the size of the first batch of data.\n",
        "  break"
      ]
    },
    {
      "cell_type": "markdown",
      "id": "XOT9ESAC5d1G",
      "metadata": {
        "id": "XOT9ESAC5d1G"
      },
      "source": [
        "## 2. Forward-Forward Algorithm Theory\n",
        "The Forward-Forward algorithm is a learning procedure inspired by Boltzmann machines and Noise Contrastive Estimation. The algorithm is illustrated in the figure below. It works by replacing the forward and backward passes of backpropagation with two forward passes - the positive pass and the negative pass. These passes operate in exactly the same way as each other, however, the positive pass works on real data to adjust the weights to increase the goodness in each layer, while the negative pass works on \"bad\" generated data to adjust the weights to decrease the goodness in each layer. As such, each layer has its own objective function that is locally updated in contrast to backpropagation which has a global objective function that is optimized.\n",
        "\n",
        "![](https://drive.google.com/uc?export=view&id=1cYmOJ1goT4-Yb0ftucAwYYhYTfmesXZ6)"
      ]
    },
    {
      "cell_type": "markdown",
      "id": "B1B_tzLsihYM",
      "metadata": {
        "id": "B1B_tzLsihYM"
      },
      "source": [
        "Goodness can be measured through a metric such as the sum of the squared neural activities. The aim of learning the the Forward-Forward algorithm is then to make the goodness be well above some threshold value for real data and well below that value for negative data. In practice, the aim is to correctly classify input vectors as positive data or negative data when the probability that an input vector is real is given by applying the logistic function, $\\sigma$ to the goodness minus some threshold, $\\theta$\n",
        "\\begin{equation}\n",
        "    p(positive) = \\sigma \\left(\\sum_j y_j^2 - \\theta \\right)\n",
        "\\end{equation}\n",
        "where $y_j$ is the activity of hidden unit $j$ before layer normalization."
      ]
    },
    {
      "cell_type": "markdown",
      "id": "GB77EmhgfaN0",
      "metadata": {
        "id": "GB77EmhgfaN0"
      },
      "source": [
        "## 3. Implementation\n",
        "We follow and modify the Forward-Forward algorithm implementation found here:\n",
        "> <cite> [Mohammad Pezeshki. pytorch_forward_forward. Github Repo January 2023.](https://github.com/mpezeshki/pytorch_forward_forward) </cite>\n",
        "\n",
        "To do so, we must define both a layer and a network class."
      ]
    },
    {
      "cell_type": "markdown",
      "id": "4D_1BCXKkRbe",
      "metadata": {
        "id": "4D_1BCXKkRbe"
      },
      "source": [
        "### 3.1 Defining the Layer Class\n",
        "- Define 'LeakyLayer' class is a custom linear layer with additional attributes related to leaky integrate and fire, an Adam optimizer, a threshold value, and the number of training epochs. The class is designed to be used as a layer in a neural network.\n",
        "\n",
        "- The 'forward' method defines the computations for a forward pass through the 'LeakyLayer'. It involves initializing the membrane potential, normalizing the input, computing the weighted input, passing it through a leaky integrate-and-fire neuron, and returning the resulting membrane potential\n",
        "\n",
        "- The 'train' method performs a training loop over a specified number of epochs. It computes the goodness for positive and negative data, calculates the loss based on these goodness values, locally backpropagates the gradients, and updates the parameters using the optimizer. The method returns the membrane potentials for positive and negative data after training. The goal is to encourage positive goodness to be above the threshold and negative goodness to be below the threshold."
      ]
    },
    {
      "cell_type": "code",
      "execution_count": null,
      "id": "EqjAjimIkZLu",
      "metadata": {
        "id": "EqjAjimIkZLu"
      },
      "outputs": [],
      "source": [
        "from tqdm import tqdm\n",
        "from torch.optim import Adam\n",
        "import torch.nn.functional as F\n",
        "\n",
        "# **CLASS DEFINITION**\n",
        "class LeakyLayer(nn.Linear):\n",
        "# defining a class named LeakyLayer that inherits from \"nn.Linear\"\n",
        "# 'LeakyLayer' is a custom linear layer.\n",
        "\n",
        "# **CONSTRUCTOR**\n",
        "    def __init__(self, in_features, out_features, activation, bias=False):\n",
        "    # define the constructor method for the 'LeakyLayer' class.\n",
        "        super().__init__(in_features, out_features, bias=bias)\n",
        "        # calls the constructor of the parent class ('nn.Linear') to initialize the linear layer with specified input and output features.\n",
        "        if activation == \"lif\":\n",
        "          self.activation = snn.Leaky(beta=0.8)\n",
        "          self.lif = True\n",
        "        else:\n",
        "          self.activation = nn.ReLU()\n",
        "          self.lif = False\n",
        "        # decay rate = 0.8\n",
        "        self.opt = Adam(self.parameters(), lr=0.03)\n",
        "        # initializes an Adam optimizer for the parameters of the 'LeakyLayer' with a learning rate of 0.03\n",
        "        self.threshold = 5.0\n",
        "        # set the threshold value to 5.0\n",
        "        self.num_epochs = 1000\n",
        "        # specifies the number of epochs for training (1000 in this case).\n",
        "\n",
        "\n",
        "\n",
        "# **FORWARD METHOD**\n",
        "    def forward(self, x):\n",
        "    # define the forward method of the 'LeakyLayer' class.\n",
        "    # this method specifies the computation that occurs during the forward pass of the neural network.\n",
        "        if self.lif == True:\n",
        "          mem = self.activation.init_leaky()\n",
        "        # initialize the membrane potential\n",
        "\n",
        "        # **NORMALIZE INPUT**\n",
        "        x_direction = x / (torch.norm(x, p=2, dim=1, keepdim=True) + 1e-4)\n",
        "            # computes the Euclidean norm along dimension 1 of the input tensor 'x'\n",
        "            # normalizes the input tensor x by dividing it by its L2 norm\n",
        "            # '1e-4' is added to the denominator to prevent division by zero\n",
        "\n",
        "        # **COMPUTE WEIGHTED INPUT**\n",
        "        weighted_input = torch.mm(x_direction, self.weight.T.to(device))\n",
        "            # matrix multiplication between the normalized input 'x_direction' and the transpose (T) of the weight matrix (self.weight)\n",
        "            # The result is the weighted input to the neurons\n",
        "\n",
        "        # **PASS THROUGH LIF NEURON**\n",
        "        if self.lif == True:\n",
        "          spk, potential = self.activation(weighted_input, mem)\n",
        "        else:\n",
        "          potential = self.activation(weighted_input)\n",
        "            # passes the weighted input and the current membrane potential through the leaky integrate-and-fire (LIF) neuron model\n",
        "            # returns spike value and updated membrane potential\n",
        "\n",
        "        # **RETURN MEMBRANE POTENTIAL**\n",
        "        return potential\n",
        "            # forward method returns the updated membrane potential (potential)\n",
        "            # this membrame potential can be used in subsequent layers (or as the final output of the last layer)\n",
        "\n",
        "\n",
        "\n",
        "# **TRAIN METHOD**\n",
        "    def train(self, x_pos, x_neg):\n",
        "    # define the 'train' method of the 'LeakyLayer' class.\n",
        "    # this method is responsible for training the layer using positive ('x_pos') and negative ('x_neg') examples.\n",
        "\n",
        "        # **TRAINING LOOP**\n",
        "        for _ in tqdm(range(self.num_epochs), desc=\"Training LeakyLayer\"):\n",
        "        # runs the loop for number of epochs = 1000\n",
        "\n",
        "            # **COMPUTE GOODNESS**\n",
        "            g_pos = self.forward(x_pos).pow(2).mean(1)\n",
        "            g_neg = self.forward(x_neg).pow(2).mean(1)\n",
        "              # Computes the goodness (g_pos and g_neg) for the positive and negative data\n",
        "              # by performing the forward pass, squaring the results, and then computing the mean along dimension 1.\n",
        "\n",
        "            # **COMPUTE LOSS**\n",
        "            loss = F.softplus(torch.cat([-g_pos + self.threshold, g_neg - self.threshold])).mean()\n",
        "              # Constructs a tensor by concatenating the positive and negative differences with a threshold\n",
        "              # Applies the softplus activation function: log(1 + exp(x))\n",
        "              # Computes the mean of the resulting tensor. This is the final scalar value representing the loss\n",
        "\n",
        "            # **ZERO THE GRADIENTS**\n",
        "            self.opt.zero_grad()\n",
        "              # Zeros the gradients of the model parameters\n",
        "\n",
        "            # **LOCAL BACKWARD PASS**\n",
        "            loss.backward()\n",
        "              # Computes the gradients of the loss with respect to the model parameters\n",
        "\n",
        "            # **PARAMETERS UPDATE**\n",
        "            self.opt.step()\n",
        "              # Updates the model parameters using the optimizer (Adam optimizer in this case)\n",
        "\n",
        "        # **RETURN ACTIVATIONS & DETACH**\n",
        "        return self.forward(x_pos).detach(), self.forward(x_neg).detach()\n",
        "          # returns the final membrane potentials (activations) for positive and negative examples after training.\n",
        "          # the '.detach()' method is used to detach the returned tensors from the computation graph,\n",
        "          # indicating that these are the final results and should not be used for further gradient computation during backpropagation"
      ]
    },
    {
      "cell_type": "markdown",
      "id": "Shh0lapBkZxO",
      "metadata": {
        "id": "Shh0lapBkZxO"
      },
      "source": [
        "### 3.2 Defining the Network Class\n",
        "\n",
        "- The 'Net' class is defined as a neural network with a constructor that takes a list of dimensions. It initializes a ModuleList ('self.layers') containing instances of the 'LeakyLayer' class, which represents the layers of the neural network. The use of 'nn.Module' as a base class allows PyTorch to track the network's architecture and parameters.\n",
        "\n",
        "- The 'predict' method overlays label information onto the input, passes it through each layer of the neural network, computes goodness values at each layer, accumulates them for each label, and returns the predicted labels based on the maximum goodness.\n",
        "\n",
        "- The 'train' method iterates over the layers of the neural network, prints information about the current layer being trained, and updates the input tensors ('h_pos' and 'h_neg') by calling the 'train' method of each layer. This allows the layers to learn and adapt their parameters during the training process."
      ]
    },
    {
      "cell_type": "code",
      "execution_count": null,
      "id": "5qkfsA69aEcQ",
      "metadata": {
        "id": "5qkfsA69aEcQ"
      },
      "outputs": [],
      "source": [
        "# **CLASS DEFINITON**\n",
        "class Net(nn.Module):\n",
        "  # define a new class named 'Net'.\n",
        "  # this will be a network and inherits from 'nn.Module'\n",
        "\n",
        "    # **CONSTRUCTOR METHOD**\n",
        "    def __init__(self, dims, activation):\n",
        "      # defines the constructor method for the 'Net' class.\n",
        "      # this method is called when an instance of the class is created.\n",
        "      # 'self' is a reference to the instance of the class.\n",
        "      # 'dims' represents dimensions of the neura network layer.\n",
        "\n",
        "        # **CALL TO PARENT CLASS CONSTRUCTOR**\n",
        "        super().__init__()\n",
        "          # calls the constructor of the parent class ('nn.Module')\n",
        "\n",
        "        # **MODULE LIST FOR LAYERS**\n",
        "        self.layers = nn.ModuleList([\n",
        "            LeakyLayer(dims[d], dims[d + 1], activation) for d in range(len(dims) - 1)\n",
        "        ])\n",
        "          # creates instances of the 'LeakyLayer' class for each pair of consecutive dimensions in the 'dims' list.\n",
        "          # it iterates over the range of 'len(dims) - 1' to ensure that there are enough dimensions for input and output for each layer.\n",
        "\n",
        "\n",
        "    # **PREDICTION METHOD**\n",
        "    def predict(self, x):\n",
        "      # intended for making predictions using the neural network.\n",
        "      # parameter 'self' is a reference to the instance of the class.\n",
        "      # parameter 'x' is input data 'x' for which predictions are to be made.\n",
        "        goodness_per_label = []\n",
        "        # initializes an empty list to store the goodness values for each label.\n",
        "\n",
        "        # **LOOP OVER LABELS**\n",
        "        for label in range(10):\n",
        "          # initiates a loop that iterates over each label from 0 to 9.\n",
        "\n",
        "            # **OVERLAY FUNCTION**\n",
        "            h = overlay_y_on_x(x, label)\n",
        "              # Calls a function 'overlay_y_on_x' to overlay label information onto the input data 'x'.\n",
        "              # The resulting tensor is assigned to 'h'.\n",
        "            goodness = []\n",
        "\n",
        "            # **INNER LOOP OVER LAYERS**\n",
        "            for layer in self.layers:\n",
        "              # initiates an inner loop over the layers (self.layers) of the neural network\n",
        "                h = layer(h)\n",
        "                  # for each layer, applies the layer to the input tensor 'h'\n",
        "                goodness.append(h.pow(2).mean(1))\n",
        "                  # computes the goodness for each layer by squaring the values, taking the mean along dimension 1, and appending it to the 'goodness' list.\n",
        "\n",
        "            # **ACCUMULATION**\n",
        "            goodness_per_label.append(sum(goodness).unsqueeze(1))\n",
        "              # computes the sum of goodness values across all layers for a specific label.\n",
        "              # The resulting tensor is then unsqueezed along dimension 1 and appended to the 'goodness_per_label' list\n",
        "\n",
        "        # **REASSIGN**\n",
        "        goodness_per_label = torch.cat(goodness_per_label, 1)\n",
        "          # concatenates the tensors in 'goodness_per_label' along dimension 1.\n",
        "          # the result is reassigned to 'goodness_per_label'.\n",
        "\n",
        "        # **RETURN PREDICTIONS**\n",
        "        return goodness_per_label.argmax(1)\n",
        "          # returns the index of the maximum value along dimension 1 of the concatenated goodness tensor.\n",
        "          # this effectively returns the predicted label for each input.\n",
        "\n",
        "\n",
        "    # **TRAINING METHOD**\n",
        "    def train(self, x_pos, x_neg):\n",
        "      # defines a method named train within the class.\n",
        "      # this method is intended for training the neural network.\n",
        "      # parameter 'self' is a reference to the instance of the class.\n",
        "      # parameters 'x_pos' and 'x_neg' represent the positive and negative examples for training.\n",
        "\n",
        "        # **INITIALIZATION**\n",
        "        h_pos, h_neg = x_pos, x_neg\n",
        "          # initializes two tensors, 'h_pos' and 'h_neg', with the values of the positive and negative examples ('x_pos' and 'x_neg'), respectively.\n",
        "\n",
        "        # **LOOP OVER LAYERS**\n",
        "        for i, layer in enumerate(self.layers):\n",
        "          # initiates a loop that iterates over the layers (self.layers) of the neural network.\n",
        "          # 'i' is the index of the current layer.\n",
        "            print('Training layer', i, '...')\n",
        "              # prints information about the training progress.\n",
        "              # displays the current layer being trained.\n",
        "\n",
        "              # **LAYER TRAINING**\n",
        "            h_pos, h_neg = layer.train(h_pos, h_neg)\n",
        "                # updates the values of h_pos and h_neg with the results obtained after training the current layer"
      ]
    },
    {
      "cell_type": "markdown",
      "id": "lY2WozWrkwBp",
      "metadata": {
        "id": "lY2WozWrkwBp"
      },
      "source": [
        "## 4. Training the Network\n",
        "\n",
        "- The 'overlay_y_on_x' function takes an input tensor 'x' and a label 'y', creates a copy of 'x', zeros out the first 10 pixels, and replaces them with a one-hot-encoded representation of the label 'y'. The resulting tensor is then returned. This function is used for preparing input data for training in the neural network\n",
        "\n",
        "- The 'visualize_sample' function takes an input data tensor, selects a specific example at the given index, reshapes it into a 28x28 matrix, and then displays the reshaped image using Matplotlib. The 'name' parameter can be used to provide a title for the plot, and the 'idx' parameter determines which example from the data is visualized.\n",
        "\n",
        "- Sets a random seed, creates a neural network, loads and preprocesses data, generates positive and negative examples, visualizes samples, trains the neural network, and evaluates the training error. The 'Net' class is responsible for the neural network architecture and training logic, while helper functions like 'overlay_y_on_x' and 'visualize_sample' contribute to data manipulation and visualization.\n",
        "- Your should obtain an error of about 14%."
      ]
    },
    {
      "cell_type": "code",
      "execution_count": null,
      "id": "ym6ZuGxRkyji",
      "metadata": {
        "colab": {
          "base_uri": "https://localhost:8080/",
          "height": 1000
        },
        "id": "ym6ZuGxRkyji",
        "outputId": "c708d241-1fd4-4091-837f-ec19282b9873"
      },
      "outputs": [
        {
          "data": {
            "image/png": "[encoded data removed]",
            "text/plain": [
              "<Figure size 400x400 with 1 Axes>"
            ]
          },
          "metadata": {},
          "output_type": "display_data"
        },
        {
          "data": {
            "image/png": "[encoded data removed]",
            "text/plain": [
              "<Figure size 400x400 with 1 Axes>"
            ]
          },
          "metadata": {},
          "output_type": "display_data"
        },
        {
          "data": {
            "image/png": "[encoded data removed]",
            "text/plain": [
              "<Figure size 400x400 with 1 Axes>"
            ]
          },
          "metadata": {},
          "output_type": "display_data"
        },
        {
          "name": "stdout",
          "output_type": "stream",
          "text": [
            "Training layer 0 ...\n"
          ]
        },
        {
          "name": "stderr",
          "output_type": "stream",
          "text": [
            "Training LeakyLayer: 100%|██████████| 1000/1000 [01:17<00:00, 12.95it/s]\n"
          ]
        },
        {
          "name": "stdout",
          "output_type": "stream",
          "text": [
            "Training layer 1 ...\n"
          ]
        },
        {
          "name": "stderr",
          "output_type": "stream",
          "text": [
            "Training LeakyLayer: 100%|██████████| 1000/1000 [00:57<00:00, 17.36it/s]\n"
          ]
        },
        {
          "name": "stdout",
          "output_type": "stream",
          "text": [
            "train error: 14.010000228881836 %\n"
          ]
        }
      ],
      "source": [
        "import matplotlib.pyplot as plt\n",
        "# for creating plots and visualizations\n",
        "\n",
        "def overlay_y_on_x(x, y):\n",
        "# defines a function named 'overlay_y_on_x'\n",
        "# overlays a one-hot-encoded label 'y' on the input data 'x'\n",
        "    \"\"\"Replace the first 10 pixels of data [x] with one-hot-encoded label [y]\"\"\"\n",
        "    # **CLONE INPUT TENSOR**\n",
        "    x_ = x.clone()\n",
        "      # creates a copy ('x_') of the input tensor 'x' to avoid modifying the original tensor.\n",
        "\n",
        "    # **ZERO OUT FIRST 10 PIXELS**\n",
        "    x_[:, :10] *= 0.0\n",
        "      # zeros out the first 10 pixels of each example in the input tensor 'x_'.\n",
        "      # this effectively removes the existing information in these pixels.\n",
        "\n",
        "    # **ONE-HOT ENCODING**\n",
        "    x_[range(x.shape[0]), y] = x.max()\n",
        "      # generates a range of indices corresponding to the number of examples in the input tensor 'x'.\n",
        "      # selects the elements in 'x_' at positions specified by the label 'y' for each example.\n",
        "      # this performs a one-hot encoding, setting the value at the position of the label to the maximum value in the original input tensor 'x'.\n",
        "      # this step replaces the zeros in the first 10 pixels with the maximum value in the corresponding column of the original input tensor for the specified label.\n",
        "    return x_\n",
        "      # returns the modified tensor x_, where the first 10 pixels have been replaced with the one-hot-encoded label\n",
        "\n",
        "\n",
        "# **FUNCTION DEFINITION**\n",
        "def visualize_sample(data, name='', idx=0):\n",
        "  # defines a function named 'visualize_sample'.\n",
        "  # this function is designed to visualize a sample from the input data.\n",
        "\n",
        "    # **RESHAPE AND MOVE TO CPU**\n",
        "    reshaped = data[idx].cpu().reshape(28, 28)\n",
        "      # selects the example at index 'idx' from the input data tensor data.\n",
        "      # moves the selected example to the CPU. This is relevant if the data is initially on a GPU.\n",
        "      # reshapes the example into a 28x28 matrix (as the data represents images with a shape of 28x28 pixels).\n",
        "      # the resulting matrix is assigned to the variable 'reshaped'.\n",
        "\n",
        "    # **SET FIGURE SIZE**\n",
        "    plt.figure(figsize = (4, 4))\n",
        "      # initializes a new figure with a specified size of 4x4 inches.\n",
        "      # sets up the plotting environment for the image visualization.\n",
        "\n",
        "    # **SET PLOT TITLE**\n",
        "    plt.title(name)\n",
        "      # sets the title of the plot to the value of the 'name' parameter.\n",
        "\n",
        "    # **DISPLAY IMAGE**\n",
        "    plt.imshow(reshaped, cmap=\"gray\")\n",
        "      # displays the reshaped image using the 'imshow' function from Matplotlib.\n",
        "      # 'cmap=\"gray\"' argument specifies a grayscale color map for displaying the image\n",
        "\n",
        "    # **SHOW PLOT**\n",
        "    plt.show()\n",
        "      # displays the plot with the visualized image.\n",
        "\n",
        "\n",
        "# **SET RANDOM SEED**\n",
        "torch.manual_seed(1234)\n",
        "  # sets the random seed for PyTorch operations (ensures reproducibility).\n",
        "\n",
        "# **CREATE NEURAL NETWORK**\n",
        "net = Net([784, 500, 500],\"lif\")\n",
        "  # creates an instance of the 'Net' class with a neural network architecture defined by the list [784, 500, 500].\n",
        "  # this architecture has an input layer with 784 neurons, followed by two hidden layers with 500 neurons each.\n",
        "\n",
        "# **LOAD AND PRE-PROCESS DATA**\n",
        "x, y = next(iter(train_loader))\n",
        "  # loads a batch of training data ('x' and corresponding labels 'y') using the 'train_loader'.\n",
        "x, y = x.to(device), y.to(device)\n",
        "  # moves the data to the specified device.\n",
        "\n",
        "# **OVERLAY LABELS OVER DATA**\n",
        "x_pos = overlay_y_on_x(x, y)\n",
        "  # generates positive examples ('x_pos') by overlaying one-hot-encoded labels on the input data.\n",
        "rnd = torch.randperm(x.size(0))\n",
        "  # generates a random permutation of indices.\n",
        "x_neg = overlay_y_on_x(x, y[rnd])\n",
        "  # generates negative examples ('x_neg') by overlaying one-hot-encoded labels on the input data using the randomly permuted labels.\n",
        "for data, name in zip([x, x_pos, x_neg], ['orig', 'pos', 'neg']):\n",
        "    # **VISUALIZE SAMPLES**\n",
        "    visualize_sample(data, name)\n",
        "      # displays original ('x'), positive ('x_pos'), and negative ('x_neg') examples.\n",
        "\n",
        "# **TRAIN THE NEURAL NETWORK**\n",
        "net.train(x_pos, x_neg)\n",
        "  # calls the 'train' method of the neural network ('net') with positive and negative examples for training.\n",
        "\n",
        "# **EVALUATE TRAINING ERROR**\n",
        "print('train error:', 100*(1.0 - net.predict(x).eq(y).float().mean().item()),'%')\n",
        "  # performs predictions on the original data ('x') using the trained network, calculates the error rate, and prints it"
      ]
    },
    {
      "cell_type": "markdown",
      "id": "LTJonZ4elIXf",
      "metadata": {
        "id": "LTJonZ4elIXf"
      },
      "source": [
        "## 5. Testing the Network\n",
        "\n",
        "- Load the test data, move it to the appropriate device, use the trained neural network to make predictions on the test set, calculate the error rate, and print the test error. The error rate is calculated as the fraction of incorrectly predicted examples in the test set.\n",
        "- You should obtain an error of about 13.5%"
      ]
    },
    {
      "cell_type": "code",
      "execution_count": null,
      "id": "74rCTBPRlK1u",
      "metadata": {
        "colab": {
          "base_uri": "https://localhost:8080/"
        },
        "id": "74rCTBPRlK1u",
        "outputId": "4620e93a-11cc-4ea0-a602-0df1a14c8697"
      },
      "outputs": [
        {
          "name": "stdout",
          "output_type": "stream",
          "text": [
            "test error: 13.49000334739685 %\n"
          ]
        }
      ],
      "source": [
        "# **LOAD AND PRE-PROCESS TEST DATA**\n",
        "x_te, y_te = next(iter(test_loader))\n",
        "  # loads a batch of test data ('x_te' and corresponding labels 'y_te') using the 'test_loader'.\n",
        "x_te, y_te = x_te.to(device), y_te.to(device)\n",
        "  # moves the test data to the specified device.\n",
        "\n",
        "# **EVALUATE TEST ERROR**\n",
        "print('test error:', 100*(1.0 - net.predict(x_te).eq(y_te).float().mean().item()), '%')\n",
        "  # performs predictions on the test data ('x_te') using the trained network ('net'), calculates the error rate, and prints it."
      ]
    },
    {
      "cell_type": "markdown",
      "id": "43Tf1Hpfkn7m",
      "metadata": {
        "id": "43Tf1Hpfkn7m"
      },
      "source": [
        "## 6. Plotting the Loss of Each Layer\n",
        "- The previous Layer and Network code is redefined here, slightly modified to allow for the tracking and plotting of each layer's loss over the given amount of epochs.\n",
        "- This consumes a lot of GPU RAM, so the size of the model and number of epochs has been greatly reduced.\n",
        "- The resulting model is quite inaccurate (~89% test error), but provides a good visualization of how each layer's loss decreases over time."
      ]
    },
    {
      "cell_type": "code",
      "execution_count": null,
      "id": "F_3gmsPbe5-9",
      "metadata": {
        "colab": {
          "base_uri": "https://localhost:8080/",
          "height": 1000
        },
        "id": "F_3gmsPbe5-9",
        "outputId": "d0ef4339-3a64-4ef2-c998-5973dd66d520"
      },
      "outputs": [
        {
          "data": {
            "image/png": "[encoded data removed]",
            "text/plain": [
              "<Figure size 400x400 with 1 Axes>"
            ]
          },
          "metadata": {},
          "output_type": "display_data"
        },
        {
          "data": {
            "image/png": "[encoded data removed]",
            "text/plain": [
              "<Figure size 400x400 with 1 Axes>"
            ]
          },
          "metadata": {},
          "output_type": "display_data"
        },
        {
          "data": {
            "image/png": "[encoded data removed]",
            "text/plain": [
              "<Figure size 400x400 with 1 Axes>"
            ]
          },
          "metadata": {},
          "output_type": "display_data"
        },
        {
          "name": "stdout",
          "output_type": "stream",
          "text": [
            "Training layer 0 ...\n"
          ]
        },
        {
          "name": "stderr",
          "output_type": "stream",
          "text": [
            "Training LeakyLayer: 100%|██████████| 100/100 [00:01<00:00, 71.58it/s]\n"
          ]
        },
        {
          "name": "stdout",
          "output_type": "stream",
          "text": [
            "Training layer 1 ...\n"
          ]
        },
        {
          "name": "stderr",
          "output_type": "stream",
          "text": [
            "Training LeakyLayer: 100%|██████████| 100/100 [00:00<00:00, 203.41it/s]\n"
          ]
        },
        {
          "name": "stdout",
          "output_type": "stream",
          "text": [
            "train error: 0.8875799998641014\n",
            "test error: 0.8872999995946884\n"
          ]
        }
      ],
      "source": [
        "from tqdm import tqdm\n",
        "from torch.optim import Adam\n",
        "import matplotlib.pyplot as plt\n",
        "import torch.nn.functional as F\n",
        "\n",
        "def overlay_y_on_x(x, y):\n",
        "    x_ = x.clone()\n",
        "    x_[:, :10] *= 0.0\n",
        "    x_[range(x.shape[0]), y] = x.max()\n",
        "    return x_\n",
        "\n",
        "\n",
        "class LeakyLayer(nn.Linear):\n",
        "    def __init__(self, in_features, out_features, bias=False):\n",
        "        super().__init__(in_features, out_features, bias=bias)\n",
        "        self.lif = snn.Leaky(beta=0.8)\n",
        "        self.opt = Adam(self.parameters(), lr=0.03)\n",
        "        self.threshold = 5.0\n",
        "        self.num_epochs = 100\n",
        "\n",
        "    def forward(self, x):\n",
        "        mem = self.lif.init_leaky()\n",
        "        x_direction = x / (torch.norm(x, p=2, dim=1, keepdim=True) + 1e-4)\n",
        "        weighted_input = torch.mm(x_direction, self.weight.T.to(device))\n",
        "        spk, potential = self.lif(weighted_input, mem)\n",
        "        return potential\n",
        "\n",
        "    def train(self, x_pos, x_neg):\n",
        "        tot_loss = []\n",
        "        for _ in tqdm(range(self.num_epochs), desc=\"Training LeakyLayer\"):\n",
        "            g_pos = self.forward(x_pos).pow(2).mean(1)\n",
        "            g_neg = self.forward(x_neg).pow(2).mean(1)\n",
        "            loss = F.softplus(torch.cat([-g_pos + self.threshold, g_neg - self.threshold])).mean()\n",
        "            self.opt.zero_grad()\n",
        "            loss.backward()\n",
        "            self.opt.step()\n",
        "            tot_loss.append(loss)\n",
        "        return self.forward(x_pos).detach(), self.forward(x_neg).detach(), tot_loss\n",
        "\n",
        "class Net(nn.Module):\n",
        "    def __init__(self, dims):\n",
        "        super().__init__()\n",
        "        self.layers = nn.ModuleList([\n",
        "            LeakyLayer(dims[d], dims[d + 1]) for d in range(len(dims) - 1)\n",
        "        ])\n",
        "\n",
        "    def predict(self, x):\n",
        "        goodness_per_label = []\n",
        "        for label in range(10):\n",
        "            h = overlay_y_on_x(x, label)\n",
        "            goodness = []\n",
        "            for layer in self.layers:\n",
        "                h = layer(h)\n",
        "                goodness.append(h.pow(2).mean(1))\n",
        "            goodness_per_label.append(sum(goodness).unsqueeze(1))\n",
        "        goodness_per_label = torch.cat(goodness_per_label, 1)\n",
        "        return goodness_per_label.argmax(1)\n",
        "\n",
        "    def train(self, x_pos, x_neg):\n",
        "        h_pos, h_neg = x_pos, x_neg\n",
        "        layer_losses = []\n",
        "        for i, layer in enumerate(self.layers):\n",
        "            print('Training layer', i, '...')\n",
        "            h_pos, h_neg, tot_loss = layer.train(h_pos, h_neg)\n",
        "            layer_losses.append(tot_loss)\n",
        "        return torch.Tensor(layer_losses)\n",
        "\n",
        "def visualize_sample(data, name='', idx=0):\n",
        "    reshaped = data[idx].cpu().reshape(28, 28)\n",
        "    plt.figure(figsize = (4, 4))\n",
        "    plt.title(name)\n",
        "    plt.imshow(reshaped, cmap=\"gray\")\n",
        "    plt.show()\n",
        "\n",
        "\n",
        "torch.manual_seed(1234)\n",
        "\n",
        "net = Net([784, 50, 50])\n",
        "x, y = next(iter(train_loader))\n",
        "x, y = x.to(device), y.to(device)\n",
        "x_pos = overlay_y_on_x(x, y)\n",
        "rnd = torch.randperm(x.size(0))\n",
        "x_neg = overlay_y_on_x(x, y[rnd])\n",
        "\n",
        "for data, name in zip([x, x_pos, x_neg], ['orig', 'pos', 'neg']):\n",
        "    visualize_sample(data, name)\n",
        "\n",
        "layer_losses = net.train(x_pos, x_neg)\n",
        "\n",
        "print('train error:', 1.0 - net.predict(x).eq(y).float().mean().item())\n",
        "\n",
        "x_te, y_te = next(iter(test_loader))\n",
        "x_te, y_te = x_te.to(device), y_te.to(device)\n",
        "\n",
        "print('test error:', 1.0 - net.predict(x_te).eq(y_te).float().mean().item())"
      ]
    },
    {
      "cell_type": "code",
      "execution_count": null,
      "id": "cN7wLeKGgXq3",
      "metadata": {
        "colab": {
          "base_uri": "https://localhost:8080/",
          "height": 449
        },
        "id": "cN7wLeKGgXq3",
        "outputId": "c8c447af-8c40-4dce-d502-e9fbc43ea0b3"
      },
      "outputs": [
        {
          "data": {
            "image/png": "[encoded data removed]",
            "text/plain": [
              "<Figure size 640x480 with 1 Axes>"
            ]
          },
          "metadata": {},
          "output_type": "display_data"
        }
      ],
      "source": [
        "plt.plot(layer_losses[0,:], label=\"Layer 1 Loss\")\n",
        "plt.plot(layer_losses[1,:], label=\"Layer 2 Loss\")\n",
        "plt.xlabel(\"Epoch\")\n",
        "plt.ylabel(\"Loss\")\n",
        "plt.legend()\n",
        "plt.show()"
      ]
    },
    {
      "cell_type": "markdown",
      "id": "E0ncALQA5T7N",
      "metadata": {
        "id": "E0ncALQA5T7N"
      },
      "source": [
        "# Train the Network using ReLU instead of LIF Activation\n",
        "\n",
        "*   To compare, we can also train and test the same network architecture on the same data, except now using ReLU as the activation function instead of LIF.\n",
        "*   Running this cell provides a training error and a test error of approximately 10% each.\n",
        "\n",
        "\n"
      ]
    },
    {
      "cell_type": "code",
      "execution_count": null,
      "id": "Y40FBDxD5Pf5",
      "metadata": {
        "colab": {
          "base_uri": "https://localhost:8080/",
          "height": 1000
        },
        "id": "Y40FBDxD5Pf5",
        "outputId": "bc984b64-ad95-4474-d0de-cda05904950c"
      },
      "outputs": [
        {
          "data": {
            "image/png": "[encoded data removed]",
            "text/plain": [
              "<Figure size 400x400 with 1 Axes>"
            ]
          },
          "metadata": {},
          "output_type": "display_data"
        },
        {
          "data": {
            "image/png": "[encoded data removed]",
            "text/plain": [
              "<Figure size 400x400 with 1 Axes>"
            ]
          },
          "metadata": {},
          "output_type": "display_data"
        },
        {
          "data": {
            "image/png": "[encoded data removed]",
            "text/plain": [
              "<Figure size 400x400 with 1 Axes>"
            ]
          },
          "metadata": {},
          "output_type": "display_data"
        },
        {
          "name": "stdout",
          "output_type": "stream",
          "text": [
            "Training layer 0 ...\n"
          ]
        },
        {
          "name": "stderr",
          "output_type": "stream",
          "text": [
            "Training LeakyLayer: 100%|██████████| 1000/1000 [01:00<00:00, 16.45it/s]\n"
          ]
        },
        {
          "name": "stdout",
          "output_type": "stream",
          "text": [
            "Training layer 1 ...\n"
          ]
        },
        {
          "name": "stderr",
          "output_type": "stream",
          "text": [
            "Training LeakyLayer: 100%|██████████| 1000/1000 [00:40<00:00, 24.70it/s]\n"
          ]
        },
        {
          "name": "stdout",
          "output_type": "stream",
          "text": [
            "train error: 10.252004861831665 %\n",
            "test error: 10.019999742507935 %\n"
          ]
        }
      ],
      "source": [
        "# **CREATE NEURAL NETWORK**\n",
        "net = Net([784, 500, 500],\"relu\")\n",
        "  # creates an instance of the 'Net' class with a neural network architecture defined by the list [784, 500, 500].\n",
        "  # this architecture has an input layer with 784 neurons, followed by two hidden layers with 500 neurons each.\n",
        "\n",
        "# **LOAD AND PRE-PROCESS DATA**\n",
        "x, y = next(iter(train_loader))\n",
        "  # loads a batch of training data ('x' and corresponding labels 'y') using the 'train_loader'.\n",
        "x, y = x.to(device), y.to(device)\n",
        "  # moves the data to the specified device.\n",
        "\n",
        "# **OVERLAY LABELS OVER DATA**\n",
        "x_pos = overlay_y_on_x(x, y)\n",
        "  # generates positive examples ('x_pos') by overlaying one-hot-encoded labels on the input data.\n",
        "rnd = torch.randperm(x.size(0))\n",
        "  # generates a random permutation of indices.\n",
        "x_neg = overlay_y_on_x(x, y[rnd])\n",
        "  # generates negative examples ('x_neg') by overlaying one-hot-encoded labels on the input data using the randomly permuted labels.\n",
        "for data, name in zip([x, x_pos, x_neg], ['orig', 'pos', 'neg']):\n",
        "    # **VISUALIZE SAMPLES**\n",
        "    visualize_sample(data, name)\n",
        "      # displays original ('x'), positive ('x_pos'), and negative ('x_neg') examples.\n",
        "\n",
        "# **TRAIN THE NEURAL NETWORK**\n",
        "net.train(x_pos, x_neg)\n",
        "  # calls the 'train' method of the neural network ('net') with positive and negative examples for training.\n",
        "\n",
        "# **EVALUATE TRAINING ERROR**\n",
        "print('train error:', 100*(1.0 - net.predict(x).eq(y).float().mean().item()),'%')\n",
        "  # performs predictions on the original data ('x') using the trained network, calculates the error rate, and prints it\n",
        "\n",
        "# **LOAD AND PRE-PROCESS TEST DATA**\n",
        "x_te, y_te = next(iter(test_loader))\n",
        "  # loads a batch of test data ('x_te' and corresponding labels 'y_te') using the 'test_loader'.\n",
        "x_te, y_te = x_te.to(device), y_te.to(device)\n",
        "  # moves the test data to the specified device.\n",
        "\n",
        "# **EVALUATE TEST ERROR**\n",
        "print('test error:', 100*(1.0 - net.predict(x_te).eq(y_te).float().mean().item()),'%')\n",
        "  # performs predictions on the test data ('x_te') using the trained network ('net'), calculates the error rate, and prints it."
      ]
    },
    {
      "cell_type": "markdown",
      "id": "Oa2jm154zvGH",
      "metadata": {
        "id": "Oa2jm154zvGH"
      },
      "source": [
        "# Comparison to ANNs and SNNs using Backpropagation\n",
        "As shown in [this Keras example](https://www.tensorflow.org/datasets/keras_example), a standard artificial neural network using backpropagation with similar architecure and hyperparameters attains a test set error of about 2.50%.\n",
        "\n",
        "As shown in [the snnTorch Tutorial 5 documentation](https://snntorch.readthedocs.io/en/latest/tutorials/tutorial_5.html), a spiking neural network using backpropagation with the same architecture and similar set hyperparameters attains a test set error of about 6.13%."
      ]
    },
    {
      "cell_type": "markdown",
      "id": "-iSGTq0Q3Lcm",
      "metadata": {
        "id": "-iSGTq0Q3Lcm"
      },
      "source": [
        "# Conclusion\n",
        "- We have trained a spiking neural network and standard artificial neural network to classify the MNIST dataset using the Forward-Forward algorithm instead of backpropagation.\n",
        "- Overall, the Forward-Forward algorithm appears to be a viable method for training neural networks, though it is less performant than using backpropagation.\n",
        "- The spiking neural network using the Forward-Forward algorithm is less performant than the artifical neural network with ReLU using it. Both perform worse than a spiking neural network or artificial neural network using backpropagation.\n"
      ]
    },
    {
      "cell_type": "markdown",
      "id": "0aIXWPOHkiD1",
      "metadata": {
        "id": "0aIXWPOHkiD1"
      },
      "source": [
        "# References\n",
        "> <cite> [Geoffrey Hinton. The Forward-Forward Algorithm: Some Preliminary\n",
        "Investigations. 2022. arXiv: 2212.13345 [cs.LG].](https://arxiv.org/abs/2212.13345) </cite>\n",
        "\n",
        "> <cite> [Mohammad Pezeshki. pytorch_forward_forward. Github Repo January 2023.](https://github.com/mpezeshki/pytorch_forward_forward) </cite>"
      ]
    },
    {
      "cell_type": "code",
      "execution_count": null,
      "id": "_HxW09hNgBO-",
      "metadata": {
        "id": "_HxW09hNgBO-"
      },
      "outputs": [],
      "source": []
    }
  ],
  "metadata": {
    "accelerator": "GPU",
    "colab": {
      "gpuType": "T4",
      "provenance": [],
      "toc_visible": true
    },
    "kernelspec": {
      "display_name": "Python 3",
      "name": "python3"
    },
    "language_info": {
      "codemirror_mode": {
        "name": "ipython",
        "version": 3
      },
      "file_extension": ".py",
      "mimetype": "text/x-python",
      "name": "python",
      "nbconvert_exporter": "python",
      "pygments_lexer": "ipython3",
      "version": "3.9.13"
    },
    "vscode": {
      "interpreter": {
        "hash": "c8b87b4648a8d1ba1118329c37c7c28a2ff48490805f0e62ea19d4b1b49e5656"
      }
    }
  },
  "nbformat": 4,
  "nbformat_minor": 5
}
